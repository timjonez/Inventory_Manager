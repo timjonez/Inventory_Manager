{
 "cells": [
  {
   "cell_type": "code",
   "execution_count": 8,
   "metadata": {},
   "outputs": [],
   "source": [
    "import pandas as pd"
   ]
  },
  {
   "cell_type": "code",
   "execution_count": 9,
   "metadata": {},
   "outputs": [],
   "source": [
    "df = pd.read_excel('Remodel.xlsm',skiprows=14)"
   ]
  },
  {
   "cell_type": "code",
   "execution_count": 10,
   "metadata": {},
   "outputs": [
    {
     "data": {
      "text/html": [
       "<div>\n",
       "<style scoped>\n",
       "    .dataframe tbody tr th:only-of-type {\n",
       "        vertical-align: middle;\n",
       "    }\n",
       "\n",
       "    .dataframe tbody tr th {\n",
       "        vertical-align: top;\n",
       "    }\n",
       "\n",
       "    .dataframe thead th {\n",
       "        text-align: right;\n",
       "    }\n",
       "</style>\n",
       "<table border=\"1\" class=\"dataframe\">\n",
       "  <thead>\n",
       "    <tr style=\"text-align: right;\">\n",
       "      <th></th>\n",
       "      <th>Lane/Number</th>\n",
       "      <th>Location</th>\n",
       "      <th>Security Status</th>\n",
       "      <th>Tag No</th>\n",
       "      <th>Serial No.[*]</th>\n",
       "      <th>Description</th>\n",
       "      <th>Product ID[*]</th>\n",
       "      <th>Vendor ID</th>\n",
       "      <th>Category</th>\n",
       "      <th>Location ID</th>\n",
       "      <th>Priority / SLA</th>\n",
       "      <th>Unnamed: 11</th>\n",
       "      <th>Unnamed: 12</th>\n",
       "      <th>Unnamed: 13</th>\n",
       "      <th>Unnamed: 14</th>\n",
       "      <th>Unnamed: 15</th>\n",
       "      <th>Unnamed: 16</th>\n",
       "    </tr>\n",
       "  </thead>\n",
       "  <tbody>\n",
       "    <tr>\n",
       "      <td>0</td>\n",
       "      <td>Physical lane # or if n/a, count (ex. 2 for 2n...</td>\n",
       "      <td>Choose from drop down (ex. CIGARETTE)</td>\n",
       "      <td>Choose from drop down, based on location of pr...</td>\n",
       "      <td>Wawa provided asset tag</td>\n",
       "      <td>Please enter with All CAPS, no dashes (if poss...</td>\n",
       "      <td>Begin typing part of description using List Se...</td>\n",
       "      <td>Model ID will populate after description is ch...</td>\n",
       "      <td>Vendor ID will populate after description is c...</td>\n",
       "      <td>Category is a static field</td>\n",
       "      <td>Generates based on data in columns A, B, &amp; H</td>\n",
       "      <td>TBD by Service Manager</td>\n",
       "      <td>NaN</td>\n",
       "      <td>NaN</td>\n",
       "      <td>Is Equipment being removed</td>\n",
       "      <td>NaN</td>\n",
       "      <td>Y or N</td>\n",
       "      <td>NaN</td>\n",
       "    </tr>\n",
       "    <tr>\n",
       "      <td>1</td>\n",
       "      <td>NaN</td>\n",
       "      <td>NaN</td>\n",
       "      <td>NaN</td>\n",
       "      <td>NaN</td>\n",
       "      <td>NaN</td>\n",
       "      <td>NETWORK/COMPUTER RACK HARDWARE</td>\n",
       "      <td>NaN</td>\n",
       "      <td>NaN</td>\n",
       "      <td>NaN</td>\n",
       "      <td>NaN</td>\n",
       "      <td>NaN</td>\n",
       "      <td>NaN</td>\n",
       "      <td>Removed equipment Only</td>\n",
       "      <td>NaN</td>\n",
       "      <td>NaN</td>\n",
       "      <td>NaN</td>\n",
       "      <td>NaN</td>\n",
       "    </tr>\n",
       "    <tr>\n",
       "      <td>2</td>\n",
       "      <td>01</td>\n",
       "      <td>PNC</td>\n",
       "      <td>PRIVATE DOOR LOCKED</td>\n",
       "      <td>NaN</td>\n",
       "      <td>FTX1529836F</td>\n",
       "      <td>CISCO 881 ROUTER ATM PNC</td>\n",
       "      <td>CIS-881-PNC-WA</td>\n",
       "      <td>CISCO</td>\n",
       "      <td>ROUTER</td>\n",
       "      <td>00853-RTR-PNC-01</td>\n",
       "      <td>1</td>\n",
       "      <td>NaN</td>\n",
       "      <td>Vendor ID</td>\n",
       "      <td>Description</td>\n",
       "      <td>Serial Number</td>\n",
       "      <td>Asset Tag</td>\n",
       "      <td>Location</td>\n",
       "    </tr>\n",
       "    <tr>\n",
       "      <td>3</td>\n",
       "      <td>01</td>\n",
       "      <td>RACK</td>\n",
       "      <td>PRIVATE DOOR LOCKED</td>\n",
       "      <td>NaN</td>\n",
       "      <td>NaN</td>\n",
       "      <td>VEDGE 100AC CHASSIS-SINGLE 4G SIM ETHERNET US</td>\n",
       "      <td>VEDGE-100M-VZ-VRZ</td>\n",
       "      <td>CISCO</td>\n",
       "      <td>ROUTER</td>\n",
       "      <td>00853-RTR-RCK-01</td>\n",
       "      <td>1</td>\n",
       "      <td>NaN</td>\n",
       "      <td>NaN</td>\n",
       "      <td>NaN</td>\n",
       "      <td>NaN</td>\n",
       "      <td>NaN</td>\n",
       "      <td>NaN</td>\n",
       "    </tr>\n",
       "    <tr>\n",
       "      <td>4</td>\n",
       "      <td>01</td>\n",
       "      <td>RACK</td>\n",
       "      <td>PRIVATE DOOR LOCKED</td>\n",
       "      <td>NaN</td>\n",
       "      <td>NaN</td>\n",
       "      <td>CISCO CATALYST 2960-X 48FPS</td>\n",
       "      <td>C2960X-48FPS-WA</td>\n",
       "      <td>CISCO</td>\n",
       "      <td>SWITCH</td>\n",
       "      <td>00853-SWT-RCK-01</td>\n",
       "      <td>1</td>\n",
       "      <td>NaN</td>\n",
       "      <td>NaN</td>\n",
       "      <td>NaN</td>\n",
       "      <td>NaN</td>\n",
       "      <td>NaN</td>\n",
       "      <td>NaN</td>\n",
       "    </tr>\n",
       "  </tbody>\n",
       "</table>\n",
       "</div>"
      ],
      "text/plain": [
       "                                         Lane/Number  \\\n",
       "0  Physical lane # or if n/a, count (ex. 2 for 2n...   \n",
       "1                                                NaN   \n",
       "2                                                 01   \n",
       "3                                                 01   \n",
       "4                                                 01   \n",
       "\n",
       "                                Location  \\\n",
       "0  Choose from drop down (ex. CIGARETTE)   \n",
       "1                                    NaN   \n",
       "2                                    PNC   \n",
       "3                                   RACK   \n",
       "4                                   RACK   \n",
       "\n",
       "                                     Security Status                   Tag No  \\\n",
       "0  Choose from drop down, based on location of pr...  Wawa provided asset tag   \n",
       "1                                                NaN                      NaN   \n",
       "2                                PRIVATE DOOR LOCKED                      NaN   \n",
       "3                                PRIVATE DOOR LOCKED                      NaN   \n",
       "4                                PRIVATE DOOR LOCKED                      NaN   \n",
       "\n",
       "                                       Serial No.[*]  \\\n",
       "0  Please enter with All CAPS, no dashes (if poss...   \n",
       "1                                                NaN   \n",
       "2                                        FTX1529836F   \n",
       "3                                                NaN   \n",
       "4                                                NaN   \n",
       "\n",
       "                                         Description  \\\n",
       "0  Begin typing part of description using List Se...   \n",
       "1                     NETWORK/COMPUTER RACK HARDWARE   \n",
       "2                           CISCO 881 ROUTER ATM PNC   \n",
       "3      VEDGE 100AC CHASSIS-SINGLE 4G SIM ETHERNET US   \n",
       "4                        CISCO CATALYST 2960-X 48FPS   \n",
       "\n",
       "                                       Product ID[*]  \\\n",
       "0  Model ID will populate after description is ch...   \n",
       "1                                                NaN   \n",
       "2                                     CIS-881-PNC-WA   \n",
       "3                                  VEDGE-100M-VZ-VRZ   \n",
       "4                                    C2960X-48FPS-WA   \n",
       "\n",
       "                                           Vendor ID  \\\n",
       "0  Vendor ID will populate after description is c...   \n",
       "1                                                NaN   \n",
       "2                                              CISCO   \n",
       "3                                              CISCO   \n",
       "4                                              CISCO   \n",
       "\n",
       "                     Category                                   Location ID  \\\n",
       "0  Category is a static field  Generates based on data in columns A, B, & H   \n",
       "1                         NaN                                           NaN   \n",
       "2                      ROUTER                              00853-RTR-PNC-01   \n",
       "3                      ROUTER                              00853-RTR-RCK-01   \n",
       "4                      SWITCH                              00853-SWT-RCK-01   \n",
       "\n",
       "           Priority / SLA  Unnamed: 11             Unnamed: 12  \\\n",
       "0  TBD by Service Manager          NaN                     NaN   \n",
       "1                     NaN          NaN  Removed equipment Only   \n",
       "2                       1          NaN               Vendor ID   \n",
       "3                       1          NaN                     NaN   \n",
       "4                       1          NaN                     NaN   \n",
       "\n",
       "                  Unnamed: 13    Unnamed: 14 Unnamed: 15 Unnamed: 16  \n",
       "0  Is Equipment being removed            NaN      Y or N         NaN  \n",
       "1                         NaN            NaN         NaN         NaN  \n",
       "2                 Description  Serial Number   Asset Tag    Location  \n",
       "3                         NaN            NaN         NaN         NaN  \n",
       "4                         NaN            NaN         NaN         NaN  "
      ]
     },
     "execution_count": 10,
     "metadata": {},
     "output_type": "execute_result"
    }
   ],
   "source": [
    "df.head()"
   ]
  },
  {
   "cell_type": "code",
   "execution_count": 4,
   "metadata": {},
   "outputs": [],
   "source": [
    "df1 = df['Product ID[*]']"
   ]
  },
  {
   "cell_type": "code",
   "execution_count": 5,
   "metadata": {},
   "outputs": [
    {
     "data": {
      "text/plain": [
       "array(['Model ID will populate after description is chosen', nan,\n",
       "       'CIS-881-PNC-WA', 'VEDGE-100M-VZ-VRZ', 'C2960X-48FPS-WA',\n",
       "       'NAS210-WA', '220-FIREWALL-WA', '164600018801-WA',\n",
       "       'IBM-4800-C84-WA', 'E170S-E177FP-WA', 'TIO22D-WA', '10MQS19D00-WA',\n",
       "       'DELLOPTI710-WA', 'TC520K1PEZU4PNA-WA', 'MC9200-WA',\n",
       "       '10AY001RUS-WA', '1517L-WA', '10MQS19C00-WA', 'DL380-WA',\n",
       "       'M625-WA', 'E824217-WA', '4852-E66-WA', 'IBM-4610-1NR-WA',\n",
       "       '010368-411E-WA', 'DS9808-WA', '7K7LBCUW8K4A-WA', 'ELNBY-SAFE-WA',\n",
       "       'IBM-4810-E50-WA', '1717L-WA', 'C31C636084-WA', 'P0823-F001-WA',\n",
       "       'P822F001-WA', 'KC2500-WA', 'DELL-24MON-WA', 'SM-T280-WA',\n",
       "       'LEN8GBTAB-WA', '39464910-WA'], dtype=object)"
      ]
     },
     "execution_count": 5,
     "metadata": {},
     "output_type": "execute_result"
    }
   ],
   "source": [
    "df1.unique() "
   ]
  },
  {
   "cell_type": "code",
   "execution_count": null,
   "metadata": {},
   "outputs": [],
   "source": [
    "products = {'Snap Server':'CIS-881-PNC-WA', 'VEDGE-100M-VZ-K9\n",
    "            ':'VEDGE-100M-VZ-VRZ'}"
   ]
  },
  {
   "cell_type": "code",
   "execution_count": 11,
   "metadata": {},
   "outputs": [],
   "source": [
    "from dictionary import *"
   ]
  },
  {
   "cell_type": "code",
   "execution_count": 12,
   "metadata": {},
   "outputs": [],
   "source": [
    "for n in df['Product ID[*]']:\n",
    "    keys = rti_remodel_product.keys()\n",
    "    if n in keys:\n",
    "        print('Yes')"
   ]
  },
  {
   "cell_type": "code",
   "execution_count": 14,
   "metadata": {},
   "outputs": [],
   "source": [
    "product = 'E1715S'"
   ]
  },
  {
   "cell_type": "code",
   "execution_count": 18,
   "metadata": {},
   "outputs": [
    {
     "name": "stdout",
     "output_type": "stream",
     "text": [
      "dict_keys(['E179069', '31P10TCS0B300', 'E829550', '1P4810E6A', 'C31CA85084', 'E1715S', '1642MC3', '1635MC19', 'P2417H'])\n"
     ]
    }
   ],
   "source": [
    "if product in keys:\n",
    "    print(keys)\n",
    "    "
   ]
  },
  {
   "cell_type": "code",
   "execution_count": 39,
   "metadata": {},
   "outputs": [
    {
     "name": "stdout",
     "output_type": "stream",
     "text": [
      "E170S-E177FP-WA\n"
     ]
    }
   ],
   "source": [
    "for item in rti_remodel_product.items():\n",
    "    if item[0] == product:\n",
    "        product_num = item[1]\n",
    "        print(product_num)\n",
    "        \n",
    "    "
   ]
  },
  {
   "cell_type": "code",
   "execution_count": 12,
   "metadata": {},
   "outputs": [],
   "source": [
    "writer = pd.ExcelWriter('test.xlsx', engine='xlsxwriter')"
   ]
  },
  {
   "cell_type": "code",
   "execution_count": 13,
   "metadata": {},
   "outputs": [],
   "source": [
    "df.to_excel(writer)"
   ]
  },
  {
   "cell_type": "code",
   "execution_count": 14,
   "metadata": {},
   "outputs": [],
   "source": [
    "from zipfile import ZipFile"
   ]
  },
  {
   "cell_type": "code",
   "execution_count": 15,
   "metadata": {},
   "outputs": [],
   "source": [
    "vba_filename = 'vbaProject.bin'\n",
    "xlsm_file = 'Remodel.xlsm'\n",
    "\n",
    "xlsm_zip = ZipFile(xlsm_file, 'r')\n",
    "\n",
    "# Read the xl/vbaProject.bin file.\n",
    "vba_data = xlsm_zip.read('xl/' + vba_filename)\n",
    "\n",
    "# Write the vba data to a local file.\n",
    "vba_file = open(vba_filename, \"wb\")\n",
    "vba_file.write(vba_data)\n",
    "vba_file.close()"
   ]
  },
  {
   "cell_type": "code",
   "execution_count": 16,
   "metadata": {},
   "outputs": [],
   "source": [
    "workbook  = writer.book\n",
    "workbook.filename = 'test.xlsm'\n",
    "workbook.add_vba_project('./vbaProject.bin')\n",
    "\n",
    "writer.save()"
   ]
  },
  {
   "cell_type": "code",
   "execution_count": null,
   "metadata": {},
   "outputs": [],
   "source": []
  }
 ],
 "metadata": {
  "kernelspec": {
   "display_name": "Python 3",
   "language": "python",
   "name": "python3"
  },
  "language_info": {
   "codemirror_mode": {
    "name": "ipython",
    "version": 3
   },
   "file_extension": ".py",
   "mimetype": "text/x-python",
   "name": "python",
   "nbconvert_exporter": "python",
   "pygments_lexer": "ipython3",
   "version": "3.7.3"
  }
 },
 "nbformat": 4,
 "nbformat_minor": 2
}
