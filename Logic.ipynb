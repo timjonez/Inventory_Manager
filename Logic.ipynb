{
 "cells": [
  {
   "cell_type": "markdown",
   "metadata": {},
   "source": [
    "# Logic for WAWA RTI Asset tag manager"
   ]
  },
  {
   "cell_type": "raw",
   "metadata": {},
   "source": [
    "1. Select file to scan into\n",
    "2. Scan product number (or --see option--)\n",
    "   A.Lookup scanned number and find RTI's number\n",
    "       1) Lookup from RTI dictionary file\n",
    "   B.Find any empty field for asset or serial number\n",
    "   C.Return item that needs scan\n",
    "3. Scan in asset tag and serial\n",
    "4. Hit Add or Done button"
   ]
  },
  {
   "cell_type": "raw",
   "metadata": {},
   "source": [
    "If Add \n",
    "Repeat:\n",
    "2. Scan product number\n",
    "   A.Lookup scanned number and find RTI's number\n",
    "   B.Find any empty field for asset or serial number\n",
    "   C.Return item that needs scan\n",
    "3. Scan in asset tag and serial\n",
    "4. Hit Add or Done button"
   ]
  },
  {
   "cell_type": "raw",
   "metadata": {},
   "source": [
    "If Done\n",
    "\n",
    "1.Save the file as xlms\n",
    "\n",
    "2.Close window"
   ]
  },
  {
   "cell_type": "raw",
   "metadata": {},
   "source": [
    "Option:\n",
    "1. Instead of scanning product number.\n",
    "    A. Pick item from dropdown list.\n",
    "    B. Auto populate product number if known."
   ]
  },
  {
   "cell_type": "markdown",
   "metadata": {},
   "source": [
    "Time to beat to scan one line(4,6) is 11 minutes"
   ]
  },
  {
   "cell_type": "raw",
   "metadata": {},
   "source": [
    "Items to fix\n",
    "1. Add drop-down menu for items without easy PN\n",
    "    A. Auto populate first part of SN that have to be manually input\n",
    "2. Auto focus to top when add button clicked\n",
    "3. Fix double saving bug\n",
    "3. Specify auto directory\n",
    "4. Fix adding to unwanted field(i.e. 209,etc)\n",
    "5. Add drop-down for timeclock,catlock,AMS,MAT, AAT"
   ]
  },
  {
   "cell_type": "code",
   "execution_count": null,
   "metadata": {},
   "outputs": [],
   "source": []
  }
 ],
 "metadata": {
  "kernelspec": {
   "display_name": "Python 3",
   "language": "python",
   "name": "python3"
  },
  "language_info": {
   "codemirror_mode": {
    "name": "ipython",
    "version": 3
   },
   "file_extension": ".py",
   "mimetype": "text/x-python",
   "name": "python",
   "nbconvert_exporter": "python",
   "pygments_lexer": "ipython3",
   "version": "3.7.3"
  }
 },
 "nbformat": 4,
 "nbformat_minor": 2
}
