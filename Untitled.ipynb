{
 "cells": [
  {
   "cell_type": "code",
   "execution_count": 17,
   "metadata": {},
   "outputs": [],
   "source": [
    "from tkinter import *"
   ]
  },
  {
   "cell_type": "code",
   "execution_count": 2,
   "metadata": {},
   "outputs": [],
   "source": [
    "root = tk.Tk() \n",
    "\n",
    "#put a label in the root to identify the window.\n",
    "label1 = tk.Label(root, text=\"\"\"this is root\n",
    "closing this window will shut down app\"\"\")\n",
    "label1.pack()\n",
    "\n",
    "#you can make as many Toplevels as you like\n",
    "extra_window = tk.Toplevel(root)\n",
    "label2 = tk.Label(extra_window, text=\"\"\"this is extra_window\n",
    "closing this will not affect root\"\"\")\n",
    "label2.pack()\n",
    "\n",
    "root.mainloop()"
   ]
  },
  {
   "cell_type": "code",
   "execution_count": 3,
   "metadata": {},
   "outputs": [],
   "source": [
    "def generate_new_window():\n",
    "    window = tk.Toplevel()\n",
    "    label = tk.Label(window, text=\"a generic Toplevel window\")\n",
    "    label.pack()\n",
    "\n",
    "root = tk.Tk()\n",
    "\n",
    "spawn_window_button = tk.Button(root,\n",
    "                                text=\"make a new window!\",\n",
    "                                command=generate_new_window)\n",
    "spawn_window_button.pack()\n",
    "\n",
    "root.mainloop()"
   ]
  },
  {
   "cell_type": "code",
   "execution_count": 15,
   "metadata": {},
   "outputs": [],
   "source": [
    "New = BooleanVar\n",
    "Remodel = BooleanVar"
   ]
  },
  {
   "cell_type": "code",
   "execution_count": 23,
   "metadata": {},
   "outputs": [],
   "source": [
    "select_type = IntVar"
   ]
  },
  {
   "cell_type": "code",
   "execution_count": 22,
   "metadata": {},
   "outputs": [
    {
     "data": {
      "text/plain": [
       "tkinter.BooleanVar"
      ]
     },
     "execution_count": 22,
     "metadata": {},
     "output_type": "execute_result"
    }
   ],
   "source": [
    "New"
   ]
  },
  {
   "cell_type": "code",
   "execution_count": 18,
   "metadata": {},
   "outputs": [
    {
     "name": "stdout",
     "output_type": "stream",
     "text": [
      "<class 'tkinter.BooleanVar'>\n"
     ]
    }
   ],
   "source": [
    "print(New)"
   ]
  },
  {
   "cell_type": "code",
   "execution_count": 39,
   "metadata": {},
   "outputs": [],
   "source": [
    "window = Tk()\n",
    "window.geometry('300x200')\n",
    "\n",
    "select_type = BooleanVar()\n",
    "select_type.set(False)\n",
    "\n",
    "\n",
    "Rbtn = Radiobutton(window,text='New Store', variable=select_type,value=True)\n",
    "Rbtn.grid(column=4,row=0)\n",
    "\n",
    "#Add selection for New\n",
    "Rbtn1 = Radiobutton(window,text='Remodel', variable=select_type, value=False)\n",
    "Rbtn1.grid(column=5,row=0)\n",
    "\n",
    "window.mainloop()"
   ]
  },
  {
   "cell_type": "code",
   "execution_count": 41,
   "metadata": {},
   "outputs": [
    {
     "data": {
      "text/plain": [
       "True"
      ]
     },
     "execution_count": 41,
     "metadata": {},
     "output_type": "execute_result"
    }
   ],
   "source": [
    "select_type.get()"
   ]
  },
  {
   "cell_type": "code",
   "execution_count": 25,
   "metadata": {},
   "outputs": [
    {
     "data": {
      "text/plain": [
       "tkinter.IntVar"
      ]
     },
     "execution_count": 25,
     "metadata": {},
     "output_type": "execute_result"
    }
   ],
   "source": [
    "select_type"
   ]
  },
  {
   "cell_type": "code",
   "execution_count": 45,
   "metadata": {},
   "outputs": [
    {
     "ename": "SyntaxError",
     "evalue": "'break' outside loop (<ipython-input-45-876d22202cf3>, line 15)",
     "output_type": "error",
     "traceback": [
      "\u001b[0;36m  File \u001b[0;32m\"<ipython-input-45-876d22202cf3>\"\u001b[0;36m, line \u001b[0;32m15\u001b[0m\n\u001b[0;31mSyntaxError\u001b[0m\u001b[0;31m:\u001b[0m 'break' outside loop\n"
     ]
    }
   ],
   "source": [
    "window = Tk()\n",
    "window.geometry('300x200')\n",
    "\n",
    "still_add = BooleanVar()\n",
    "still_add.set(True)\n",
    "\n",
    "\n",
    "fin_btn = Button(window,text='Finish',command=still_add.set(False))\n",
    "fin_btn.grid(column=6,row=7)\n",
    "\n",
    "\n",
    "window.mainloop()"
   ]
  },
  {
   "cell_type": "code",
   "execution_count": 44,
   "metadata": {},
   "outputs": [
    {
     "data": {
      "text/plain": [
       "False"
      ]
     },
     "execution_count": 44,
     "metadata": {},
     "output_type": "execute_result"
    }
   ],
   "source": [
    "still_add.get()"
   ]
  },
  {
   "cell_type": "code",
   "execution_count": null,
   "metadata": {},
   "outputs": [],
   "source": []
  }
 ],
 "metadata": {
  "kernelspec": {
   "display_name": "Python 3",
   "language": "python",
   "name": "python3"
  },
  "language_info": {
   "codemirror_mode": {
    "name": "ipython",
    "version": 3
   },
   "file_extension": ".py",
   "mimetype": "text/x-python",
   "name": "python",
   "nbconvert_exporter": "python",
   "pygments_lexer": "ipython3",
   "version": "3.7.3"
  }
 },
 "nbformat": 4,
 "nbformat_minor": 2
}
